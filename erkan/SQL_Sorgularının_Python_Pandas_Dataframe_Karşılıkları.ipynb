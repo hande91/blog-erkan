{
 "cells": [
  {
   "cell_type": "code",
   "execution_count": 1,
   "metadata": {},
   "outputs": [],
   "source": [
    "import pandas as pd"
   ]
  },
  {
   "cell_type": "code",
   "execution_count": 2,
   "metadata": {},
   "outputs": [],
   "source": [
    "df = pd.read_csv(\"https://raw.githubusercontent.com/erkansirin78/datasets/master/simple_data.csv\")"
   ]
  },
  {
   "cell_type": "code",
   "execution_count": 3,
   "metadata": {},
   "outputs": [
    {
     "data": {
      "text/html": [
       "<div>\n",
       "<style scoped>\n",
       "    .dataframe tbody tr th:only-of-type {\n",
       "        vertical-align: middle;\n",
       "    }\n",
       "\n",
       "    .dataframe tbody tr th {\n",
       "        vertical-align: top;\n",
       "    }\n",
       "\n",
       "    .dataframe thead th {\n",
       "        text-align: right;\n",
       "    }\n",
       "</style>\n",
       "<table border=\"1\" class=\"dataframe\">\n",
       "  <thead>\n",
       "    <tr style=\"text-align: right;\">\n",
       "      <th></th>\n",
       "      <th>sirano</th>\n",
       "      <th>isim</th>\n",
       "      <th>yas</th>\n",
       "      <th>meslek</th>\n",
       "      <th>sehir</th>\n",
       "      <th>aylik_gelir</th>\n",
       "    </tr>\n",
       "  </thead>\n",
       "  <tbody>\n",
       "    <tr>\n",
       "      <th>0</th>\n",
       "      <td>1</td>\n",
       "      <td>Cemal</td>\n",
       "      <td>35</td>\n",
       "      <td>Isci</td>\n",
       "      <td>Ankara</td>\n",
       "      <td>3500</td>\n",
       "    </tr>\n",
       "    <tr>\n",
       "      <th>1</th>\n",
       "      <td>2</td>\n",
       "      <td>Ceyda</td>\n",
       "      <td>42</td>\n",
       "      <td>Memur</td>\n",
       "      <td>Kayseri</td>\n",
       "      <td>4200</td>\n",
       "    </tr>\n",
       "    <tr>\n",
       "      <th>2</th>\n",
       "      <td>3</td>\n",
       "      <td>Timur</td>\n",
       "      <td>30</td>\n",
       "      <td>Müzisyen</td>\n",
       "      <td>Istanbul</td>\n",
       "      <td>9000</td>\n",
       "    </tr>\n",
       "    <tr>\n",
       "      <th>3</th>\n",
       "      <td>4</td>\n",
       "      <td>Burcu</td>\n",
       "      <td>29</td>\n",
       "      <td>Pazarlamaci</td>\n",
       "      <td>Ankara</td>\n",
       "      <td>4200</td>\n",
       "    </tr>\n",
       "    <tr>\n",
       "      <th>4</th>\n",
       "      <td>5</td>\n",
       "      <td>Yasemin</td>\n",
       "      <td>23</td>\n",
       "      <td>NaN</td>\n",
       "      <td>Bursa</td>\n",
       "      <td>4800</td>\n",
       "    </tr>\n",
       "  </tbody>\n",
       "</table>\n",
       "</div>"
      ],
      "text/plain": [
       "   sirano     isim  yas       meslek     sehir  aylik_gelir\n",
       "0       1    Cemal   35         Isci    Ankara         3500\n",
       "1       2    Ceyda   42        Memur   Kayseri         4200\n",
       "2       3    Timur   30     Müzisyen  Istanbul         9000\n",
       "3       4    Burcu   29  Pazarlamaci    Ankara         4200\n",
       "4       5  Yasemin   23          NaN     Bursa         4800"
      ]
     },
     "execution_count": 3,
     "metadata": {},
     "output_type": "execute_result"
    }
   ],
   "source": [
    "df.head()"
   ]
  },
  {
   "cell_type": "code",
   "execution_count": 4,
   "metadata": {},
   "outputs": [
    {
     "data": {
      "text/plain": [
       "Index(['sirano', 'isim', 'yas', 'meslek', 'sehir', 'aylik_gelir'], dtype='object')"
      ]
     },
     "execution_count": 4,
     "metadata": {},
     "output_type": "execute_result"
    }
   ],
   "source": [
    "df.columns"
   ]
  },
  {
   "cell_type": "code",
   "execution_count": 5,
   "metadata": {
    "scrolled": true
   },
   "outputs": [
    {
     "data": {
      "text/html": [
       "<div>\n",
       "<style scoped>\n",
       "    .dataframe tbody tr th:only-of-type {\n",
       "        vertical-align: middle;\n",
       "    }\n",
       "\n",
       "    .dataframe tbody tr th {\n",
       "        vertical-align: top;\n",
       "    }\n",
       "\n",
       "    .dataframe thead th {\n",
       "        text-align: right;\n",
       "    }\n",
       "</style>\n",
       "<table border=\"1\" class=\"dataframe\">\n",
       "  <thead>\n",
       "    <tr style=\"text-align: right;\">\n",
       "      <th></th>\n",
       "      <th>sirano</th>\n",
       "      <th>isim</th>\n",
       "      <th>yas</th>\n",
       "      <th>meslek</th>\n",
       "      <th>sehir</th>\n",
       "      <th>aylik_gelir</th>\n",
       "    </tr>\n",
       "  </thead>\n",
       "  <tbody>\n",
       "    <tr>\n",
       "      <th>0</th>\n",
       "      <td>1</td>\n",
       "      <td>Cemal</td>\n",
       "      <td>35</td>\n",
       "      <td>Isci</td>\n",
       "      <td>Ankara</td>\n",
       "      <td>3500</td>\n",
       "    </tr>\n",
       "    <tr>\n",
       "      <th>1</th>\n",
       "      <td>2</td>\n",
       "      <td>Ceyda</td>\n",
       "      <td>42</td>\n",
       "      <td>Memur</td>\n",
       "      <td>Kayseri</td>\n",
       "      <td>4200</td>\n",
       "    </tr>\n",
       "    <tr>\n",
       "      <th>2</th>\n",
       "      <td>3</td>\n",
       "      <td>Timur</td>\n",
       "      <td>30</td>\n",
       "      <td>Müzisyen</td>\n",
       "      <td>Istanbul</td>\n",
       "      <td>9000</td>\n",
       "    </tr>\n",
       "    <tr>\n",
       "      <th>3</th>\n",
       "      <td>4</td>\n",
       "      <td>Burcu</td>\n",
       "      <td>29</td>\n",
       "      <td>Pazarlamaci</td>\n",
       "      <td>Ankara</td>\n",
       "      <td>4200</td>\n",
       "    </tr>\n",
       "    <tr>\n",
       "      <th>4</th>\n",
       "      <td>5</td>\n",
       "      <td>Yasemin</td>\n",
       "      <td>23</td>\n",
       "      <td>NaN</td>\n",
       "      <td>Bursa</td>\n",
       "      <td>4800</td>\n",
       "    </tr>\n",
       "  </tbody>\n",
       "</table>\n",
       "</div>"
      ],
      "text/plain": [
       "   sirano     isim  yas       meslek     sehir  aylik_gelir\n",
       "0       1    Cemal   35         Isci    Ankara         3500\n",
       "1       2    Ceyda   42        Memur   Kayseri         4200\n",
       "2       3    Timur   30     Müzisyen  Istanbul         9000\n",
       "3       4    Burcu   29  Pazarlamaci    Ankara         4200\n",
       "4       5  Yasemin   23          NaN     Bursa         4800"
      ]
     },
     "execution_count": 5,
     "metadata": {},
     "output_type": "execute_result"
    }
   ],
   "source": [
    "df[['sirano', 'isim', 'yas', 'meslek', 'sehir', 'aylik_gelir']] \\\n",
    ".head(5)"
   ]
  },
  {
   "cell_type": "code",
   "execution_count": 8,
   "metadata": {},
   "outputs": [
    {
     "data": {
      "text/html": [
       "<div>\n",
       "<style scoped>\n",
       "    .dataframe tbody tr th:only-of-type {\n",
       "        vertical-align: middle;\n",
       "    }\n",
       "\n",
       "    .dataframe tbody tr th {\n",
       "        vertical-align: top;\n",
       "    }\n",
       "\n",
       "    .dataframe thead th {\n",
       "        text-align: right;\n",
       "    }\n",
       "</style>\n",
       "<table border=\"1\" class=\"dataframe\">\n",
       "  <thead>\n",
       "    <tr style=\"text-align: right;\">\n",
       "      <th></th>\n",
       "      <th>sirano</th>\n",
       "      <th>isim</th>\n",
       "      <th>yas</th>\n",
       "      <th>meslek</th>\n",
       "      <th>sehir</th>\n",
       "      <th>aylik_gelir</th>\n",
       "    </tr>\n",
       "  </thead>\n",
       "  <tbody>\n",
       "    <tr>\n",
       "      <th>2</th>\n",
       "      <td>3</td>\n",
       "      <td>Timur</td>\n",
       "      <td>30</td>\n",
       "      <td>Müzisyen</td>\n",
       "      <td>Istanbul</td>\n",
       "      <td>9000</td>\n",
       "    </tr>\n",
       "    <tr>\n",
       "      <th>6</th>\n",
       "      <td>7</td>\n",
       "      <td>Dilek</td>\n",
       "      <td>29</td>\n",
       "      <td>Pazarlamaci</td>\n",
       "      <td>Istanbul</td>\n",
       "      <td>7300</td>\n",
       "    </tr>\n",
       "    <tr>\n",
       "      <th>7</th>\n",
       "      <td>8</td>\n",
       "      <td>Murat</td>\n",
       "      <td>31</td>\n",
       "      <td>Müzisyen</td>\n",
       "      <td>Istanbul</td>\n",
       "      <td>12000</td>\n",
       "    </tr>\n",
       "    <tr>\n",
       "      <th>9</th>\n",
       "      <td>10</td>\n",
       "      <td>Muhittin</td>\n",
       "      <td>46</td>\n",
       "      <td>Berber</td>\n",
       "      <td>Istanbul</td>\n",
       "      <td>12000</td>\n",
       "    </tr>\n",
       "  </tbody>\n",
       "</table>\n",
       "</div>"
      ],
      "text/plain": [
       "   sirano      isim  yas       meslek     sehir  aylik_gelir\n",
       "2       3     Timur   30     Müzisyen  Istanbul         9000\n",
       "6       7     Dilek   29  Pazarlamaci  Istanbul         7300\n",
       "7       8     Murat   31     Müzisyen  Istanbul        12000\n",
       "9      10  Muhittin   46       Berber  Istanbul        12000"
      ]
     },
     "execution_count": 8,
     "metadata": {},
     "output_type": "execute_result"
    }
   ],
   "source": [
    "df[df['sehir'] == 'Istanbul'].head(5)"
   ]
  },
  {
   "cell_type": "code",
   "execution_count": 7,
   "metadata": {},
   "outputs": [
    {
     "data": {
      "text/html": [
       "<div>\n",
       "<style scoped>\n",
       "    .dataframe tbody tr th:only-of-type {\n",
       "        vertical-align: middle;\n",
       "    }\n",
       "\n",
       "    .dataframe tbody tr th {\n",
       "        vertical-align: top;\n",
       "    }\n",
       "\n",
       "    .dataframe thead th {\n",
       "        text-align: right;\n",
       "    }\n",
       "</style>\n",
       "<table border=\"1\" class=\"dataframe\">\n",
       "  <thead>\n",
       "    <tr style=\"text-align: right;\">\n",
       "      <th></th>\n",
       "      <th>sirano</th>\n",
       "      <th>isim</th>\n",
       "      <th>yas</th>\n",
       "      <th>meslek</th>\n",
       "      <th>sehir</th>\n",
       "      <th>aylik_gelir</th>\n",
       "    </tr>\n",
       "  </thead>\n",
       "  <tbody>\n",
       "    <tr>\n",
       "      <th>9</th>\n",
       "      <td>10</td>\n",
       "      <td>Muhittin</td>\n",
       "      <td>46</td>\n",
       "      <td>Berber</td>\n",
       "      <td>Istanbul</td>\n",
       "      <td>12000</td>\n",
       "    </tr>\n",
       "  </tbody>\n",
       "</table>\n",
       "</div>"
      ],
      "text/plain": [
       "   sirano      isim  yas  meslek     sehir  aylik_gelir\n",
       "9      10  Muhittin   46  Berber  Istanbul        12000"
      ]
     },
     "execution_count": 7,
     "metadata": {},
     "output_type": "execute_result"
    }
   ],
   "source": [
    "df[ (df['sehir'] == 'Istanbul') & (df['yas'] > 40)].head(5)"
   ]
  },
  {
   "cell_type": "code",
   "execution_count": 12,
   "metadata": {},
   "outputs": [
    {
     "data": {
      "text/html": [
       "<div>\n",
       "<style scoped>\n",
       "    .dataframe tbody tr th:only-of-type {\n",
       "        vertical-align: middle;\n",
       "    }\n",
       "\n",
       "    .dataframe tbody tr th {\n",
       "        vertical-align: top;\n",
       "    }\n",
       "\n",
       "    .dataframe thead tr th {\n",
       "        text-align: left;\n",
       "    }\n",
       "</style>\n",
       "<table border=\"1\" class=\"dataframe\">\n",
       "  <thead>\n",
       "    <tr>\n",
       "      <th></th>\n",
       "      <th>meslek</th>\n",
       "      <th>aylik_gelir</th>\n",
       "      <th>yas</th>\n",
       "    </tr>\n",
       "    <tr>\n",
       "      <th></th>\n",
       "      <th></th>\n",
       "      <th>mean</th>\n",
       "      <th>mean</th>\n",
       "    </tr>\n",
       "  </thead>\n",
       "  <tbody>\n",
       "    <tr>\n",
       "      <th>0</th>\n",
       "      <td>Berber</td>\n",
       "      <td>9866.666667</td>\n",
       "      <td>46.0</td>\n",
       "    </tr>\n",
       "    <tr>\n",
       "      <th>1</th>\n",
       "      <td>Doktor</td>\n",
       "      <td>16125.000000</td>\n",
       "      <td>35.0</td>\n",
       "    </tr>\n",
       "    <tr>\n",
       "      <th>2</th>\n",
       "      <td>Isci</td>\n",
       "      <td>3500.000000</td>\n",
       "      <td>35.0</td>\n",
       "    </tr>\n",
       "    <tr>\n",
       "      <th>3</th>\n",
       "      <td>Memur</td>\n",
       "      <td>4066.666667</td>\n",
       "      <td>36.0</td>\n",
       "    </tr>\n",
       "    <tr>\n",
       "      <th>4</th>\n",
       "      <td>Müzisyen</td>\n",
       "      <td>10500.000000</td>\n",
       "      <td>30.5</td>\n",
       "    </tr>\n",
       "  </tbody>\n",
       "</table>\n",
       "</div>"
      ],
      "text/plain": [
       "     meslek   aylik_gelir   yas\n",
       "                     mean  mean\n",
       "0    Berber   9866.666667  46.0\n",
       "1    Doktor  16125.000000  35.0\n",
       "2      Isci   3500.000000  35.0\n",
       "3     Memur   4066.666667  36.0\n",
       "4  Müzisyen  10500.000000  30.5"
      ]
     },
     "execution_count": 12,
     "metadata": {},
     "output_type": "execute_result"
    }
   ],
   "source": [
    "df.groupby(['meslek'])['aylik_gelir','yas'] \\\n",
    ".agg(['mean']) \\\n",
    ".reset_index() \\\n",
    ".head(5)"
   ]
  },
  {
   "cell_type": "code",
   "execution_count": 15,
   "metadata": {},
   "outputs": [
    {
     "data": {
      "text/html": [
       "<div>\n",
       "<style scoped>\n",
       "    .dataframe tbody tr th:only-of-type {\n",
       "        vertical-align: middle;\n",
       "    }\n",
       "\n",
       "    .dataframe tbody tr th {\n",
       "        vertical-align: top;\n",
       "    }\n",
       "\n",
       "    .dataframe thead tr th {\n",
       "        text-align: left;\n",
       "    }\n",
       "</style>\n",
       "<table border=\"1\" class=\"dataframe\">\n",
       "  <thead>\n",
       "    <tr>\n",
       "      <th></th>\n",
       "      <th>meslek</th>\n",
       "      <th>aylik_gelir</th>\n",
       "      <th>yas</th>\n",
       "    </tr>\n",
       "    <tr>\n",
       "      <th></th>\n",
       "      <th></th>\n",
       "      <th>mean</th>\n",
       "      <th>mean</th>\n",
       "    </tr>\n",
       "  </thead>\n",
       "  <tbody>\n",
       "    <tr>\n",
       "      <th>1</th>\n",
       "      <td>Doktor</td>\n",
       "      <td>16125.000000</td>\n",
       "      <td>35.0</td>\n",
       "    </tr>\n",
       "    <tr>\n",
       "      <th>4</th>\n",
       "      <td>Müzisyen</td>\n",
       "      <td>10500.000000</td>\n",
       "      <td>30.5</td>\n",
       "    </tr>\n",
       "    <tr>\n",
       "      <th>0</th>\n",
       "      <td>Berber</td>\n",
       "      <td>9866.666667</td>\n",
       "      <td>46.0</td>\n",
       "    </tr>\n",
       "    <tr>\n",
       "      <th>5</th>\n",
       "      <td>Pazarlamaci</td>\n",
       "      <td>5750.000000</td>\n",
       "      <td>29.0</td>\n",
       "    </tr>\n",
       "    <tr>\n",
       "      <th>7</th>\n",
       "      <td>Tuhafiyeci</td>\n",
       "      <td>4800.000000</td>\n",
       "      <td>47.0</td>\n",
       "    </tr>\n",
       "  </tbody>\n",
       "</table>\n",
       "</div>"
      ],
      "text/plain": [
       "        meslek   aylik_gelir   yas\n",
       "                        mean  mean\n",
       "1       Doktor  16125.000000  35.0\n",
       "4     Müzisyen  10500.000000  30.5\n",
       "0       Berber   9866.666667  46.0\n",
       "5  Pazarlamaci   5750.000000  29.0\n",
       "7   Tuhafiyeci   4800.000000  47.0"
      ]
     },
     "execution_count": 15,
     "metadata": {},
     "output_type": "execute_result"
    }
   ],
   "source": [
    "df.groupby(['meslek'])['aylik_gelir','yas'] \\\n",
    ".agg(['mean']) \\\n",
    ".reset_index() \\\n",
    ".sort_values([('aylik_gelir','mean')], ascending=False) \\\n",
    ".head(5)"
   ]
  },
  {
   "cell_type": "code",
   "execution_count": 18,
   "metadata": {},
   "outputs": [
    {
     "data": {
      "text/html": [
       "<div>\n",
       "<style scoped>\n",
       "    .dataframe tbody tr th:only-of-type {\n",
       "        vertical-align: middle;\n",
       "    }\n",
       "\n",
       "    .dataframe tbody tr th {\n",
       "        vertical-align: top;\n",
       "    }\n",
       "\n",
       "    .dataframe thead th {\n",
       "        text-align: right;\n",
       "    }\n",
       "</style>\n",
       "<table border=\"1\" class=\"dataframe\">\n",
       "  <thead>\n",
       "    <tr style=\"text-align: right;\">\n",
       "      <th></th>\n",
       "      <th>sirano</th>\n",
       "      <th>isim</th>\n",
       "      <th>yas</th>\n",
       "      <th>meslek</th>\n",
       "      <th>sehir</th>\n",
       "      <th>aylik_gelir</th>\n",
       "    </tr>\n",
       "  </thead>\n",
       "  <tbody>\n",
       "    <tr>\n",
       "      <th>4</th>\n",
       "      <td>5</td>\n",
       "      <td>Yasemin</td>\n",
       "      <td>23</td>\n",
       "      <td>NaN</td>\n",
       "      <td>Bursa</td>\n",
       "      <td>4800</td>\n",
       "    </tr>\n",
       "    <tr>\n",
       "      <th>14</th>\n",
       "      <td>15</td>\n",
       "      <td>Şehmuz</td>\n",
       "      <td>41</td>\n",
       "      <td>NaN</td>\n",
       "      <td>Ankara</td>\n",
       "      <td>8700</td>\n",
       "    </tr>\n",
       "  </tbody>\n",
       "</table>\n",
       "</div>"
      ],
      "text/plain": [
       "    sirano     isim  yas meslek   sehir  aylik_gelir\n",
       "4        5  Yasemin   23    NaN   Bursa         4800\n",
       "14      15   Şehmuz   41    NaN  Ankara         8700"
      ]
     },
     "execution_count": 18,
     "metadata": {},
     "output_type": "execute_result"
    }
   ],
   "source": [
    "df.loc[df['meslek'].isna()].head()"
   ]
  },
  {
   "cell_type": "code",
   "execution_count": 19,
   "metadata": {},
   "outputs": [],
   "source": [
    "df.loc[df['meslek'].isna(), 'meslek'] = 'Saraç'"
   ]
  },
  {
   "cell_type": "code",
   "execution_count": 20,
   "metadata": {},
   "outputs": [
    {
     "data": {
      "text/html": [
       "<div>\n",
       "<style scoped>\n",
       "    .dataframe tbody tr th:only-of-type {\n",
       "        vertical-align: middle;\n",
       "    }\n",
       "\n",
       "    .dataframe tbody tr th {\n",
       "        vertical-align: top;\n",
       "    }\n",
       "\n",
       "    .dataframe thead th {\n",
       "        text-align: right;\n",
       "    }\n",
       "</style>\n",
       "<table border=\"1\" class=\"dataframe\">\n",
       "  <thead>\n",
       "    <tr style=\"text-align: right;\">\n",
       "      <th></th>\n",
       "      <th>sirano</th>\n",
       "      <th>isim</th>\n",
       "      <th>yas</th>\n",
       "      <th>meslek</th>\n",
       "      <th>sehir</th>\n",
       "      <th>aylik_gelir</th>\n",
       "    </tr>\n",
       "  </thead>\n",
       "  <tbody>\n",
       "    <tr>\n",
       "      <th>4</th>\n",
       "      <td>5</td>\n",
       "      <td>Yasemin</td>\n",
       "      <td>23</td>\n",
       "      <td>Saraç</td>\n",
       "      <td>Bursa</td>\n",
       "      <td>4800</td>\n",
       "    </tr>\n",
       "    <tr>\n",
       "      <th>14</th>\n",
       "      <td>15</td>\n",
       "      <td>Şehmuz</td>\n",
       "      <td>41</td>\n",
       "      <td>Saraç</td>\n",
       "      <td>Ankara</td>\n",
       "      <td>8700</td>\n",
       "    </tr>\n",
       "  </tbody>\n",
       "</table>\n",
       "</div>"
      ],
      "text/plain": [
       "    sirano     isim  yas meslek   sehir  aylik_gelir\n",
       "4        5  Yasemin   23  Saraç   Bursa         4800\n",
       "14      15   Şehmuz   41  Saraç  Ankara         8700"
      ]
     },
     "execution_count": 20,
     "metadata": {},
     "output_type": "execute_result"
    }
   ],
   "source": [
    "df.loc[df['meslek'] == 'Saraç'].head()"
   ]
  },
  {
   "cell_type": "code",
   "execution_count": 21,
   "metadata": {},
   "outputs": [
    {
     "data": {
      "text/html": [
       "<div>\n",
       "<style scoped>\n",
       "    .dataframe tbody tr th:only-of-type {\n",
       "        vertical-align: middle;\n",
       "    }\n",
       "\n",
       "    .dataframe tbody tr th {\n",
       "        vertical-align: top;\n",
       "    }\n",
       "\n",
       "    .dataframe thead th {\n",
       "        text-align: right;\n",
       "    }\n",
       "</style>\n",
       "<table border=\"1\" class=\"dataframe\">\n",
       "  <thead>\n",
       "    <tr style=\"text-align: right;\">\n",
       "      <th></th>\n",
       "      <th>sirano</th>\n",
       "      <th>isim</th>\n",
       "      <th>yas</th>\n",
       "      <th>meslek</th>\n",
       "      <th>sehir</th>\n",
       "      <th>aylik_gelir</th>\n",
       "    </tr>\n",
       "  </thead>\n",
       "  <tbody>\n",
       "    <tr>\n",
       "      <th>15</th>\n",
       "      <td>16</td>\n",
       "      <td>Gençay</td>\n",
       "      <td>46</td>\n",
       "      <td>Berber</td>\n",
       "      <td>Ankara</td>\n",
       "      <td>8800</td>\n",
       "    </tr>\n",
       "    <tr>\n",
       "      <th>16</th>\n",
       "      <td>16</td>\n",
       "      <td>Gençay</td>\n",
       "      <td>46</td>\n",
       "      <td>Berber</td>\n",
       "      <td>Ankara</td>\n",
       "      <td>8800</td>\n",
       "    </tr>\n",
       "  </tbody>\n",
       "</table>\n",
       "</div>"
      ],
      "text/plain": [
       "    sirano    isim  yas  meslek   sehir  aylik_gelir\n",
       "15      16  Gençay   46  Berber  Ankara         8800\n",
       "16      16  Gençay   46  Berber  Ankara         8800"
      ]
     },
     "execution_count": 21,
     "metadata": {},
     "output_type": "execute_result"
    }
   ],
   "source": [
    "df.loc[df['isim'] == 'Gençay'].head()"
   ]
  },
  {
   "cell_type": "code",
   "execution_count": 22,
   "metadata": {},
   "outputs": [],
   "source": [
    "df = df.loc[df['isim'] != 'Gençay']"
   ]
  },
  {
   "cell_type": "code",
   "execution_count": 23,
   "metadata": {},
   "outputs": [
    {
     "data": {
      "text/html": [
       "<div>\n",
       "<style scoped>\n",
       "    .dataframe tbody tr th:only-of-type {\n",
       "        vertical-align: middle;\n",
       "    }\n",
       "\n",
       "    .dataframe tbody tr th {\n",
       "        vertical-align: top;\n",
       "    }\n",
       "\n",
       "    .dataframe thead th {\n",
       "        text-align: right;\n",
       "    }\n",
       "</style>\n",
       "<table border=\"1\" class=\"dataframe\">\n",
       "  <thead>\n",
       "    <tr style=\"text-align: right;\">\n",
       "      <th></th>\n",
       "      <th>sirano</th>\n",
       "      <th>isim</th>\n",
       "      <th>yas</th>\n",
       "      <th>meslek</th>\n",
       "      <th>sehir</th>\n",
       "      <th>aylik_gelir</th>\n",
       "    </tr>\n",
       "  </thead>\n",
       "  <tbody>\n",
       "  </tbody>\n",
       "</table>\n",
       "</div>"
      ],
      "text/plain": [
       "Empty DataFrame\n",
       "Columns: [sirano, isim, yas, meslek, sehir, aylik_gelir]\n",
       "Index: []"
      ]
     },
     "execution_count": 23,
     "metadata": {},
     "output_type": "execute_result"
    }
   ],
   "source": [
    "df.loc[df['isim'] == 'Gençay'].head()"
   ]
  },
  {
   "cell_type": "code",
   "execution_count": null,
   "metadata": {},
   "outputs": [],
   "source": []
  }
 ],
 "metadata": {
  "kernelspec": {
   "display_name": "Python 3",
   "language": "python",
   "name": "python3"
  },
  "language_info": {
   "codemirror_mode": {
    "name": "ipython",
    "version": 3
   },
   "file_extension": ".py",
   "mimetype": "text/x-python",
   "name": "python",
   "nbconvert_exporter": "python",
   "pygments_lexer": "ipython3",
   "version": "3.6.5"
  }
 },
 "nbformat": 4,
 "nbformat_minor": 2
}
