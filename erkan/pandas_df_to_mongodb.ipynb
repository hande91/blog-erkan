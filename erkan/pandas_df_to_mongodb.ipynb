{
 "cells": [
  {
   "cell_type": "code",
   "execution_count": 17,
   "metadata": {},
   "outputs": [],
   "source": [
    "import pymongo\n",
    "# mongodb bağlantı\n",
    "myclient = pymongo.MongoClient(\"mongodb://hpe.impektra.com:27017\")"
   ]
  },
  {
   "cell_type": "code",
   "execution_count": 18,
   "metadata": {},
   "outputs": [
    {
     "name": "stdout",
     "output_type": "stream",
     "text": [
      "['admin', 'config', 'impektra', 'local']\n"
     ]
    }
   ],
   "source": [
    "# veri tabanlarını listele\n",
    "print(myclient.list_database_names())"
   ]
  },
  {
   "cell_type": "code",
   "execution_count": 19,
   "metadata": {},
   "outputs": [],
   "source": [
    "import pandas as pd\n",
    "artists = [\n",
    "  { \"name\": \"Filiz AKIN\", \"address\": \"Bebek İstanbul\"},\n",
    "  { \"name\": \"Sadri ALIŞIK\", \"address\": \"Nişantaşı İstanbul\"},\n",
    "  { \"name\": \"Behzat Ç\", \"address\": \"Çankaya Ankara\"},\n",
    "  { \"name\": \"Ayhan IŞIK\", \"address\": \"Sultanbeyli İstanbul\"},\n",
    "  { \"name\": \"Cüneyt ARKIN\", \"address\": \"Odunpazarı Eskişehir\"}\n",
    "]"
   ]
  },
  {
   "cell_type": "code",
   "execution_count": 20,
   "metadata": {},
   "outputs": [],
   "source": [
    "df = pd.DataFrame(artists)"
   ]
  },
  {
   "cell_type": "code",
   "execution_count": 21,
   "metadata": {},
   "outputs": [
    {
     "data": {
      "text/html": [
       "<div>\n",
       "<style scoped>\n",
       "    .dataframe tbody tr th:only-of-type {\n",
       "        vertical-align: middle;\n",
       "    }\n",
       "\n",
       "    .dataframe tbody tr th {\n",
       "        vertical-align: top;\n",
       "    }\n",
       "\n",
       "    .dataframe thead th {\n",
       "        text-align: right;\n",
       "    }\n",
       "</style>\n",
       "<table border=\"1\" class=\"dataframe\">\n",
       "  <thead>\n",
       "    <tr style=\"text-align: right;\">\n",
       "      <th></th>\n",
       "      <th>name</th>\n",
       "      <th>address</th>\n",
       "    </tr>\n",
       "  </thead>\n",
       "  <tbody>\n",
       "    <tr>\n",
       "      <th>0</th>\n",
       "      <td>Filiz AKIN</td>\n",
       "      <td>Bebek İstanbul</td>\n",
       "    </tr>\n",
       "    <tr>\n",
       "      <th>1</th>\n",
       "      <td>Sadri ALIŞIK</td>\n",
       "      <td>Nişantaşı İstanbul</td>\n",
       "    </tr>\n",
       "    <tr>\n",
       "      <th>2</th>\n",
       "      <td>Behzat Ç</td>\n",
       "      <td>Çankaya Ankara</td>\n",
       "    </tr>\n",
       "    <tr>\n",
       "      <th>3</th>\n",
       "      <td>Ayhan IŞIK</td>\n",
       "      <td>Sultanbeyli İstanbul</td>\n",
       "    </tr>\n",
       "    <tr>\n",
       "      <th>4</th>\n",
       "      <td>Cüneyt ARKIN</td>\n",
       "      <td>Odunpazarı Eskişehir</td>\n",
       "    </tr>\n",
       "  </tbody>\n",
       "</table>\n",
       "</div>"
      ],
      "text/plain": [
       "           name               address\n",
       "0    Filiz AKIN        Bebek İstanbul\n",
       "1  Sadri ALIŞIK    Nişantaşı İstanbul\n",
       "2      Behzat Ç        Çankaya Ankara\n",
       "3    Ayhan IŞIK  Sultanbeyli İstanbul\n",
       "4  Cüneyt ARKIN  Odunpazarı Eskişehir"
      ]
     },
     "execution_count": 21,
     "metadata": {},
     "output_type": "execute_result"
    }
   ],
   "source": [
    "df.head()"
   ]
  },
  {
   "cell_type": "code",
   "execution_count": 22,
   "metadata": {},
   "outputs": [],
   "source": [
    "# pandas dataframe'i json formatına çevir\n",
    "import json\n",
    "records = json.loads(df.T.to_json()).values()"
   ]
  },
  {
   "cell_type": "code",
   "execution_count": 23,
   "metadata": {},
   "outputs": [],
   "source": [
    "import pymongo\n",
    "\n",
    "# mongodb bağlantı\n",
    "myclient = pymongo.MongoClient(\"mongodb://docker:27017\")"
   ]
  },
  {
   "cell_type": "code",
   "execution_count": 24,
   "metadata": {},
   "outputs": [],
   "source": [
    "# bir veri tabanı seç veya yoksa oluştur.\n",
    "# Not: İçine bir şey konulmadıkça mongodb'de veri tabanı gerçekten oluşmaz.\n",
    "db = myclient[\"mydatabase\"]"
   ]
  },
  {
   "cell_type": "code",
   "execution_count": 25,
   "metadata": {},
   "outputs": [],
   "source": [
    "# Bir collection oluştur.\n",
    "my_collection = db[\"artists\"]"
   ]
  },
  {
   "cell_type": "code",
   "execution_count": 26,
   "metadata": {},
   "outputs": [],
   "source": [
    "#json formatına çevrilen dataframe'i mongodb'ye yaz\n",
    "x = my_collection.insert_many(records)"
   ]
  },
  {
   "cell_type": "code",
   "execution_count": 27,
   "metadata": {},
   "outputs": [
    {
     "name": "stdout",
     "output_type": "stream",
     "text": [
      "{'_id': ObjectId('5da078ce688e42fcb888bd9d'), 'name': 'Filiz AKIN', 'address': 'Bebek İstanbul'}\n"
     ]
    }
   ],
   "source": [
    "y = my_collection.find_one()\n",
    "print(y)"
   ]
  },
  {
   "cell_type": "code",
   "execution_count": null,
   "metadata": {},
   "outputs": [],
   "source": []
  }
 ],
 "metadata": {
  "kernelspec": {
   "display_name": "mongo",
   "language": "python",
   "name": "mongo"
  },
  "language_info": {
   "codemirror_mode": {
    "name": "ipython",
    "version": 3
   },
   "file_extension": ".py",
   "mimetype": "text/x-python",
   "name": "python",
   "nbconvert_exporter": "python",
   "pygments_lexer": "ipython3",
   "version": "3.6.5"
  }
 },
 "nbformat": 4,
 "nbformat_minor": 2
}
